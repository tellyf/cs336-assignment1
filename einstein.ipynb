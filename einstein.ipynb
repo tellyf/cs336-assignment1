{
 "cells": [
  {
   "cell_type": "code",
   "execution_count": 37,
   "metadata": {},
   "outputs": [],
   "source": [
    "# einstein example \n",
    "\n",
    "import torch\n",
    "from einops import rearrange, einsum\n",
    "import einx"
   ]
  },
  {
   "cell_type": "code",
   "execution_count": 4,
   "metadata": {},
   "outputs": [
    {
     "name": "stdout",
     "output_type": "stream",
     "text": [
      "torch.Size([64, 128, 128, 3])\n",
      "torch.Size([10])\n"
     ]
    }
   ],
   "source": [
    "torch.manual_seed(42)\n",
    "images = torch.randn(64, 128, 128, 3)\n",
    "dim_by = torch.linspace(start = 0.0, end = 1.0, steps = 10)\n",
    "\n",
    "print(images.shape)\n",
    "print(dim_by.shape)"
   ]
  },
  {
   "cell_type": "code",
   "execution_count": 5,
   "metadata": {},
   "outputs": [
    {
     "name": "stdout",
     "output_type": "stream",
     "text": [
      "torch.Size([1, 10, 1, 1, 1])\n"
     ]
    }
   ],
   "source": [
    "dim_value = rearrange(dim_by, 'dim_value -> 1 dim_value 1 1 1')\n",
    "print(dim_value.shape)"
   ]
  },
  {
   "cell_type": "code",
   "execution_count": 6,
   "metadata": {},
   "outputs": [
    {
     "name": "stdout",
     "output_type": "stream",
     "text": [
      "torch.Size([64, 1, 128, 128, 3])\n"
     ]
    }
   ],
   "source": [
    "images_rearr = rearrange(images, \"b height width channel -> b 1 height width channel\")\n",
    "print(images_rearr.shape)"
   ]
  },
  {
   "cell_type": "code",
   "execution_count": 7,
   "metadata": {},
   "outputs": [
    {
     "name": "stdout",
     "output_type": "stream",
     "text": [
      "torch.Size([64, 10, 128, 128, 3])\n"
     ]
    }
   ],
   "source": [
    "dimmed_images = images_rearr * dim_value # what is * here \n",
    "print(dimmed_images.shape)"
   ]
  },
  {
   "cell_type": "code",
   "execution_count": 10,
   "metadata": {},
   "outputs": [
    {
     "name": "stdout",
     "output_type": "stream",
     "text": [
      "torch.Size([64, 10, 128, 128, 3])\n"
     ]
    }
   ],
   "source": [
    "dimmed_images = einsum(\n",
    "    images, dim_by,\n",
    "    'batch height width channel, dim_value -> batch dim_value height width channel'\n",
    ")\n",
    "print(dimmed_images.shape)"
   ]
  },
  {
   "cell_type": "code",
   "execution_count": 24,
   "metadata": {},
   "outputs": [
    {
     "name": "stdout",
     "output_type": "stream",
     "text": [
      "torch.Size([64, 1024, 3])\n",
      "torch.Size([64, 3, 1024])\n"
     ]
    }
   ],
   "source": [
    "channels_last = torch.randn(64, 32, 32, 3) # Batch, Height, Width, Channels \n",
    "B = torch.randn(32*32, 32*32)\n",
    "channels_last_flat = channels_last.view(\n",
    "    -1, channels_last.size(1) * channels_last.size(2), channels_last.size(3), \n",
    ") # view reshapes \n",
    "print(channels_last_flat.shape)"
   ]
  },
  {
   "cell_type": "code",
   "execution_count": 25,
   "metadata": {},
   "outputs": [
    {
     "name": "stdout",
     "output_type": "stream",
     "text": [
      "torch.Size([64, 3, 1024])\n",
      "torch.Size([64, 3, 1024])\n"
     ]
    }
   ],
   "source": [
    "channels_first_flat = channels_last_flat.transpose(1, 2)\n",
    "print(channels_first_flat.shape)\n",
    "\n",
    "height = width = 32\n",
    "channels_first = rearrange( channels_last, \"batch height width channel -> batch channel (height width)\" )\n",
    "print(channels_first.shape)"
   ]
  },
  {
   "cell_type": "code",
   "execution_count": 30,
   "metadata": {},
   "outputs": [
    {
     "name": "stdout",
     "output_type": "stream",
     "text": [
      "torch.Size([64, 3, 1024])\n",
      "torch.Size([64, 3, 1024])\n"
     ]
    }
   ],
   "source": [
    "channels_first_flat_transformed = channels_first_flat @ B.T\n",
    "print(channels_first_flat_transformed.shape)\n",
    "\n",
    "channels_first_transformed = einsum(channels_first, B, \"batch channel pixel_in, pixel_out pixel_in -> batch channel pixel_out\" )\n",
    "print(channels_first_transformed.shape)"
   ]
  },
  {
   "cell_type": "code",
   "execution_count": 31,
   "metadata": {},
   "outputs": [
    {
     "name": "stdout",
     "output_type": "stream",
     "text": [
      "torch.Size([64, 1024, 3])\n"
     ]
    }
   ],
   "source": [
    "channels_last_flat_transformed = channels_first_flat_transformed.transpose(1, 2)\n",
    "print(channels_last_flat_transformed.shape)"
   ]
  },
  {
   "cell_type": "code",
   "execution_count": 32,
   "metadata": {},
   "outputs": [
    {
     "name": "stdout",
     "output_type": "stream",
     "text": [
      "torch.Size([64, 32, 32, 3])\n",
      "torch.Size([64, 32, 32, 3])\n"
     ]
    }
   ],
   "source": [
    "channels_last_transformed = channels_last_flat_transformed.view(*channels_last.shape) # * unpacks the shape\n",
    "print(channels_last_transformed.shape)\n",
    "channels_last_transformed = rearrange( channels_first_transformed, \"batch channel (height width) -> batch height width channel\", height=height, width=width )\n",
    "print(channels_last_transformed.shape)"
   ]
  },
  {
   "cell_type": "code",
   "execution_count": 39,
   "metadata": {},
   "outputs": [
    {
     "name": "stdout",
     "output_type": "stream",
     "text": [
      "torch.Size([64, 32, 32, 3])\n"
     ]
    }
   ],
   "source": [
    "channels_last_transformed = einx.dot( \"batch row_in col_in channel, (row_out col_out) (row_in col_in)\" \"-> batch row_out col_out channel\", channels_last, B, col_in=width, col_out=width )\n",
    "print(channels_last_transformed.shape)"
   ]
  }
 ],
 "metadata": {
  "kernelspec": {
   "display_name": "bpe",
   "language": "python",
   "name": "python3"
  },
  "language_info": {
   "codemirror_mode": {
    "name": "ipython",
    "version": 3
   },
   "file_extension": ".py",
   "mimetype": "text/x-python",
   "name": "python",
   "nbconvert_exporter": "python",
   "pygments_lexer": "ipython3",
   "version": "3.10.12"
  }
 },
 "nbformat": 4,
 "nbformat_minor": 2
}
