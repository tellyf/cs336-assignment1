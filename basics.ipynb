{
 "cells": [
  {
   "cell_type": "code",
   "execution_count": null,
   "metadata": {},
   "outputs": [
    {
     "name": "stdout",
     "output_type": "stream",
     "text": [
      "29275\n",
      "牛\n",
      "\u0000\n"
     ]
    }
   ],
   "source": [
    "# unicode: text encoding that maps characters to integers (range 0 to 154,997)\n",
    "# tokenizer directly on unicode codepoints will _prohibitively large_ (150k) and _sparse_. \n",
    "# use Unicode encoding\n",
    "#   UTF-8: 1-4 bytes per character\n",
    "#   UTF-16: 2-4 bytes per character\n",
    "#   UTF-32: 4 bytes per character  \n",
    "print(ord('牛'))\n",
    "print(chr(29275))\n",
    "print(chr(0))"
   ]
  },
  {
   "cell_type": "code",
   "execution_count": 13,
   "metadata": {},
   "outputs": [
    {
     "name": "stdout",
     "output_type": "stream",
     "text": [
      "b'hello world \\xe7\\x89\\x9b\\xe7\\x89\\x9b'\n",
      "<class 'bytes'>\n",
      "[104, 101, 108, 108, 111, 32, 119, 111, 114, 108, 100, 32, 231, 137, 155, 231, 137, 155]\n",
      "14\n",
      "18\n",
      "hello world 牛牛\n"
     ]
    }
   ],
   "source": [
    "s = \"hello world 牛牛\"\n",
    "utf8_encoded = s.encode('utf-8')\n",
    "print(utf8_encoded)  # b'hello world '\n",
    "print(type(utf8_encoded))  # <class 'bytes'>\n",
    "print(list(utf8_encoded))\n",
    "print(len(s))\n",
    "print(len(utf8_encoded))  # 13 bytes\n",
    "print(utf8_encoded.decode('utf-8')) "
   ]
  },
  {
   "cell_type": "code",
   "execution_count": null,
   "metadata": {},
   "outputs": [],
   "source": [
    "# word-level tokenization. vocabulary size is 10k-100k\n",
    "# char-level tokenization. vocabulary size is 26 + 10 + 1 (space) + 1 (unicode char)\n",
    "# byte-level tokenization. vocabulary size is 256\n",
    "# subword-level tokenization. vocabulary size is 10k-100k\n",
    "# BPE (Byte Pair Encoding) is a subword-level tokenization algorithm that merges the most frequent pairs of bytes or characters in a text corpus iteratively to create a fixed-size vocabulary. It is particularly useful for handling out-of-vocabulary words and reducing the vocabulary size while maintaining meaningful subword units.\n"
   ]
  },
  {
   "cell_type": "code",
   "execution_count": 1,
   "metadata": {},
   "outputs": [],
   "source": [
    "import pickle\n",
    "\n",
    "# Load it from the file\n",
    "with open('vocab.pkl', 'rb') as f:\n",
    "    loaded_data = pickle.load(f)"
   ]
  },
  {
   "cell_type": "code",
   "execution_count": 5,
   "metadata": {},
   "outputs": [
    {
     "name": "stdout",
     "output_type": "stream",
     "text": [
      "b'Hannah'\n"
     ]
    }
   ],
   "source": [
    "n = len(loaded_data)\n",
    "print(loaded_data[n-1])"
   ]
  }
 ],
 "metadata": {
  "kernelspec": {
   "display_name": "bpe",
   "language": "python",
   "name": "python3"
  },
  "language_info": {
   "codemirror_mode": {
    "name": "ipython",
    "version": 3
   },
   "file_extension": ".py",
   "mimetype": "text/x-python",
   "name": "python",
   "nbconvert_exporter": "python",
   "pygments_lexer": "ipython3",
   "version": "3.10.12"
  }
 },
 "nbformat": 4,
 "nbformat_minor": 2
}
